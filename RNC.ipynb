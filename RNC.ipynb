{
  "nbformat": 4,
  "nbformat_minor": 0,
  "metadata": {
    "colab": {
      "name": "RNC.ipynb",
      "provenance": [],
      "collapsed_sections": [],
      "authorship_tag": "ABX9TyOzZmFJ/DWgf1cNcIr+7Fxf",
      "include_colab_link": true
    },
    "kernelspec": {
      "name": "python3",
      "display_name": "Python 3"
    },
    "language_info": {
      "name": "python"
    }
  },
  "cells": [
    {
      "cell_type": "markdown",
      "metadata": {
        "id": "view-in-github",
        "colab_type": "text"
      },
      "source": [
        "<a href=\"https://colab.research.google.com/github/FelipeVillegasH/Track3/blob/main/RNC.ipynb\" target=\"_parent\"><img src=\"https://colab.research.google.com/assets/colab-badge.svg\" alt=\"Open In Colab\"/></a>"
      ]
    },
    {
      "cell_type": "markdown",
      "source": [
        "# Neural Network \n",
        "## By: Felipe Villegas"
      ],
      "metadata": {
        "id": "tv9VlCjCDd5l"
      }
    },
    {
      "cell_type": "code",
      "execution_count": 1,
      "metadata": {
        "id": "85aZHiLTDWoN"
      },
      "outputs": [],
      "source": [
        "import pandas as pd"
      ]
    },
    {
      "cell_type": "code",
      "source": [
        "from google.colab import drive\n",
        "drive.mount('/content/drive')"
      ],
      "metadata": {
        "colab": {
          "base_uri": "https://localhost:8080/"
        },
        "id": "ydPj0CzXD-4G",
        "outputId": "ff594c8b-7d71-4962-a1b6-ff4cabb00686"
      },
      "execution_count": 3,
      "outputs": [
        {
          "output_type": "stream",
          "name": "stdout",
          "text": [
            "Mounted at /content/drive\n"
          ]
        }
      ]
    },
    {
      "cell_type": "code",
      "source": [
        "dftrain = pd.read_csv('/content/drive/MyDrive/CodingDojo/Track 3/Core/Week 3/fashion-mnist_train.csv')\n",
        "dftest = pd.read_csv('/content/drive/MyDrive/CodingDojo/Track 3/Core/Week 3/fashion-mnist_test.csv')"
      ],
      "metadata": {
        "id": "WzXyT-VdD_cf"
      },
      "execution_count": 4,
      "outputs": []
    },
    {
      "cell_type": "code",
      "source": [
        "import numpy as np\n",
        "from sklearn.preprocessing import StandardScaler\n",
        "from sklearn.model_selection import train_test_split\n",
        "from sklearn.metrics import accuracy_score\n",
        "from tensorflow.keras.models import Sequential\n",
        "from tensorflow.keras.layers import Dense\n",
        "from tensorflow.keras.layers import Dropout\n",
        "from tensorflow.keras.layers import Flatten\n",
        "from tensorflow.keras.layers import Conv2D\n",
        "from tensorflow.keras.layers import MaxPooling2D\n",
        "from tensorflow.keras.utils import to_categorical"
      ],
      "metadata": {
        "id": "YQO1Mq6bEetP"
      },
      "execution_count": 5,
      "outputs": []
    },
    {
      "cell_type": "code",
      "source": [
        "X_train = dftrain.drop(columns = 'label')/255\n",
        "X_val = dftest.drop(columns = 'label')/255\n",
        "y_train = dftrain['label']\n",
        "y_val = dftest['label']"
      ],
      "metadata": {
        "id": "Y_0Sec4cEmwN"
      },
      "execution_count": 6,
      "outputs": []
    },
    {
      "cell_type": "code",
      "source": [
        "X_train, X_test, y_train, y_test = train_test_split(X_train, y_train, random_state = 3)"
      ],
      "metadata": {
        "id": "aTw8kfO_EoF1"
      },
      "execution_count": 7,
      "outputs": []
    },
    {
      "cell_type": "code",
      "source": [
        "X_train = np.array(X_train).reshape(X_train.shape[0], 28, 28, 1)\n",
        "X_test = np.array(X_test).reshape(X_test.shape[0], 28, 28, 1)"
      ],
      "metadata": {
        "id": "31sPDSzgEqB_"
      },
      "execution_count": 8,
      "outputs": []
    },
    {
      "cell_type": "code",
      "source": [
        "y_train = to_categorical(y_train, num_classes = 10)\n",
        "y_test = to_categorical(y_test, num_classes = 10)"
      ],
      "metadata": {
        "id": "eiFkywL8Er5M"
      },
      "execution_count": 9,
      "outputs": []
    },
    {
      "cell_type": "code",
      "source": [
        "shape = X_train.shape[1 : 4]\n",
        "shape"
      ],
      "metadata": {
        "colab": {
          "base_uri": "https://localhost:8080/"
        },
        "id": "VzHjX1T6EuH5",
        "outputId": "0325526c-892c-4924-bc5c-620dc7da758b"
      },
      "execution_count": 10,
      "outputs": [
        {
          "output_type": "execute_result",
          "data": {
            "text/plain": [
              "(28, 28, 1)"
            ]
          },
          "metadata": {},
          "execution_count": 10
        }
      ]
    },
    {
      "cell_type": "code",
      "source": [
        "model = Sequential()\n",
        "\n",
        "model.add(Conv2D(filters = 32, input_shape = shape, activation = 'relu', kernel_size = 3))\n",
        "\n",
        "model.add(MaxPooling2D(pool_size = 2))\n",
        "\n",
        "Dropout(0.2)\n",
        "\n",
        "model.add(Flatten())\n",
        "\n",
        "model.add(Dense(10, activation = 'softmax'))\n",
        "\n",
        "model.compile(loss = 'categorical_crossentropy', optimizer = 'adam', metrics = ['acc'])"
      ],
      "metadata": {
        "id": "BoS5IBx_EyZM"
      },
      "execution_count": 11,
      "outputs": []
    },
    {
      "cell_type": "code",
      "source": [
        "history = model.fit(X_train, y_train,\n",
        "                    validation_data = (X_test, y_test),\n",
        "                    batch_size = 5000,\n",
        "                    epochs = 100)"
      ],
      "metadata": {
        "colab": {
          "base_uri": "https://localhost:8080/"
        },
        "id": "copDXP-8EzZV",
        "outputId": "8fc7958c-4532-4fae-b99e-7c5bde7c28bd"
      },
      "execution_count": 12,
      "outputs": [
        {
          "output_type": "stream",
          "name": "stdout",
          "text": [
            "Epoch 1/100\n",
            "9/9 [==============================] - 15s 2s/step - loss: 1.8241 - acc: 0.4956 - val_loss: 1.3084 - val_acc: 0.6531\n",
            "Epoch 2/100\n",
            "9/9 [==============================] - 13s 1s/step - loss: 1.0843 - acc: 0.6796 - val_loss: 0.8779 - val_acc: 0.7105\n",
            "Epoch 3/100\n",
            "9/9 [==============================] - 13s 1s/step - loss: 0.8093 - acc: 0.7288 - val_loss: 0.7259 - val_acc: 0.7501\n",
            "Epoch 4/100\n",
            "9/9 [==============================] - 13s 2s/step - loss: 0.6988 - acc: 0.7630 - val_loss: 0.6458 - val_acc: 0.7761\n",
            "Epoch 5/100\n",
            "9/9 [==============================] - 13s 1s/step - loss: 0.6341 - acc: 0.7824 - val_loss: 0.5969 - val_acc: 0.7865\n",
            "Epoch 6/100\n",
            "9/9 [==============================] - 13s 1s/step - loss: 0.5926 - acc: 0.7928 - val_loss: 0.5614 - val_acc: 0.8019\n",
            "Epoch 7/100\n",
            "9/9 [==============================] - 15s 2s/step - loss: 0.5605 - acc: 0.8065 - val_loss: 0.5319 - val_acc: 0.8135\n",
            "Epoch 8/100\n",
            "9/9 [==============================] - 13s 1s/step - loss: 0.5352 - acc: 0.8173 - val_loss: 0.5118 - val_acc: 0.8216\n",
            "Epoch 9/100\n",
            "9/9 [==============================] - 13s 1s/step - loss: 0.5147 - acc: 0.8236 - val_loss: 0.4925 - val_acc: 0.8305\n",
            "Epoch 10/100\n",
            "9/9 [==============================] - 13s 1s/step - loss: 0.4955 - acc: 0.8312 - val_loss: 0.4759 - val_acc: 0.8361\n",
            "Epoch 11/100\n",
            "9/9 [==============================] - 13s 1s/step - loss: 0.4799 - acc: 0.8363 - val_loss: 0.4640 - val_acc: 0.8391\n",
            "Epoch 12/100\n",
            "9/9 [==============================] - 13s 1s/step - loss: 0.4665 - acc: 0.8411 - val_loss: 0.4508 - val_acc: 0.8457\n",
            "Epoch 13/100\n",
            "9/9 [==============================] - 13s 1s/step - loss: 0.4534 - acc: 0.8452 - val_loss: 0.4393 - val_acc: 0.8477\n",
            "Epoch 14/100\n",
            "9/9 [==============================] - 13s 1s/step - loss: 0.4418 - acc: 0.8492 - val_loss: 0.4300 - val_acc: 0.8505\n",
            "Epoch 15/100\n",
            "9/9 [==============================] - 14s 1s/step - loss: 0.4335 - acc: 0.8513 - val_loss: 0.4218 - val_acc: 0.8529\n",
            "Epoch 16/100\n",
            "9/9 [==============================] - 13s 1s/step - loss: 0.4248 - acc: 0.8542 - val_loss: 0.4153 - val_acc: 0.8557\n",
            "Epoch 17/100\n",
            "9/9 [==============================] - 13s 1s/step - loss: 0.4156 - acc: 0.8578 - val_loss: 0.4069 - val_acc: 0.8602\n",
            "Epoch 18/100\n",
            "9/9 [==============================] - 13s 1s/step - loss: 0.4093 - acc: 0.8597 - val_loss: 0.4022 - val_acc: 0.8599\n",
            "Epoch 19/100\n",
            "9/9 [==============================] - 13s 1s/step - loss: 0.4018 - acc: 0.8634 - val_loss: 0.3939 - val_acc: 0.8620\n",
            "Epoch 20/100\n",
            "9/9 [==============================] - 13s 1s/step - loss: 0.3955 - acc: 0.8652 - val_loss: 0.3915 - val_acc: 0.8645\n",
            "Epoch 21/100\n",
            "9/9 [==============================] - 13s 1s/step - loss: 0.3922 - acc: 0.8657 - val_loss: 0.3882 - val_acc: 0.8653\n",
            "Epoch 22/100\n",
            "9/9 [==============================] - 13s 1s/step - loss: 0.3854 - acc: 0.8683 - val_loss: 0.3821 - val_acc: 0.8685\n",
            "Epoch 23/100\n",
            "9/9 [==============================] - 13s 1s/step - loss: 0.3804 - acc: 0.8698 - val_loss: 0.3777 - val_acc: 0.8686\n",
            "Epoch 24/100\n",
            "9/9 [==============================] - 13s 1s/step - loss: 0.3746 - acc: 0.8710 - val_loss: 0.3731 - val_acc: 0.8691\n",
            "Epoch 25/100\n",
            "9/9 [==============================] - 13s 1s/step - loss: 0.3699 - acc: 0.8728 - val_loss: 0.3676 - val_acc: 0.8724\n",
            "Epoch 26/100\n",
            "9/9 [==============================] - 13s 1s/step - loss: 0.3653 - acc: 0.8747 - val_loss: 0.3655 - val_acc: 0.8723\n",
            "Epoch 27/100\n",
            "9/9 [==============================] - 13s 1s/step - loss: 0.3619 - acc: 0.8758 - val_loss: 0.3615 - val_acc: 0.8739\n",
            "Epoch 28/100\n",
            "9/9 [==============================] - 13s 1s/step - loss: 0.3585 - acc: 0.8779 - val_loss: 0.3602 - val_acc: 0.8740\n",
            "Epoch 29/100\n",
            "9/9 [==============================] - 13s 1s/step - loss: 0.3554 - acc: 0.8786 - val_loss: 0.3549 - val_acc: 0.8765\n",
            "Epoch 30/100\n",
            "9/9 [==============================] - 13s 1s/step - loss: 0.3528 - acc: 0.8795 - val_loss: 0.3557 - val_acc: 0.8762\n",
            "Epoch 31/100\n",
            "9/9 [==============================] - 13s 1s/step - loss: 0.3483 - acc: 0.8805 - val_loss: 0.3501 - val_acc: 0.8784\n",
            "Epoch 32/100\n",
            "9/9 [==============================] - 13s 1s/step - loss: 0.3442 - acc: 0.8813 - val_loss: 0.3475 - val_acc: 0.8786\n",
            "Epoch 33/100\n",
            "9/9 [==============================] - 13s 1s/step - loss: 0.3409 - acc: 0.8833 - val_loss: 0.3458 - val_acc: 0.8796\n",
            "Epoch 34/100\n",
            "9/9 [==============================] - 13s 1s/step - loss: 0.3387 - acc: 0.8826 - val_loss: 0.3451 - val_acc: 0.8805\n",
            "Epoch 35/100\n",
            "9/9 [==============================] - 13s 1s/step - loss: 0.3365 - acc: 0.8841 - val_loss: 0.3401 - val_acc: 0.8835\n",
            "Epoch 36/100\n",
            "9/9 [==============================] - 13s 1s/step - loss: 0.3323 - acc: 0.8851 - val_loss: 0.3396 - val_acc: 0.8825\n",
            "Epoch 37/100\n",
            "9/9 [==============================] - 13s 1s/step - loss: 0.3302 - acc: 0.8865 - val_loss: 0.3363 - val_acc: 0.8833\n",
            "Epoch 38/100\n",
            "9/9 [==============================] - 13s 1s/step - loss: 0.3281 - acc: 0.8863 - val_loss: 0.3347 - val_acc: 0.8853\n",
            "Epoch 39/100\n",
            "9/9 [==============================] - 13s 1s/step - loss: 0.3251 - acc: 0.8882 - val_loss: 0.3372 - val_acc: 0.8825\n",
            "Epoch 40/100\n",
            "9/9 [==============================] - 13s 1s/step - loss: 0.3247 - acc: 0.8874 - val_loss: 0.3335 - val_acc: 0.8835\n",
            "Epoch 41/100\n",
            "9/9 [==============================] - 13s 1s/step - loss: 0.3222 - acc: 0.8883 - val_loss: 0.3297 - val_acc: 0.8863\n",
            "Epoch 42/100\n",
            "9/9 [==============================] - 13s 1s/step - loss: 0.3185 - acc: 0.8899 - val_loss: 0.3289 - val_acc: 0.8867\n",
            "Epoch 43/100\n",
            "9/9 [==============================] - 13s 1s/step - loss: 0.3167 - acc: 0.8905 - val_loss: 0.3273 - val_acc: 0.8866\n",
            "Epoch 44/100\n",
            "9/9 [==============================] - 13s 1s/step - loss: 0.3150 - acc: 0.8914 - val_loss: 0.3261 - val_acc: 0.8873\n",
            "Epoch 45/100\n",
            "9/9 [==============================] - 13s 1s/step - loss: 0.3135 - acc: 0.8911 - val_loss: 0.3232 - val_acc: 0.8887\n",
            "Epoch 46/100\n",
            "9/9 [==============================] - 13s 1s/step - loss: 0.3118 - acc: 0.8920 - val_loss: 0.3222 - val_acc: 0.8888\n",
            "Epoch 47/100\n",
            "9/9 [==============================] - 13s 1s/step - loss: 0.3098 - acc: 0.8920 - val_loss: 0.3218 - val_acc: 0.8895\n",
            "Epoch 48/100\n",
            "9/9 [==============================] - 13s 1s/step - loss: 0.3085 - acc: 0.8929 - val_loss: 0.3217 - val_acc: 0.8895\n",
            "Epoch 49/100\n",
            "9/9 [==============================] - 13s 1s/step - loss: 0.3075 - acc: 0.8933 - val_loss: 0.3204 - val_acc: 0.8890\n",
            "Epoch 50/100\n",
            "9/9 [==============================] - 13s 2s/step - loss: 0.3060 - acc: 0.8930 - val_loss: 0.3177 - val_acc: 0.8908\n",
            "Epoch 51/100\n",
            "9/9 [==============================] - 13s 1s/step - loss: 0.3036 - acc: 0.8942 - val_loss: 0.3192 - val_acc: 0.8896\n",
            "Epoch 52/100\n",
            "9/9 [==============================] - 13s 1s/step - loss: 0.3019 - acc: 0.8950 - val_loss: 0.3191 - val_acc: 0.8890\n",
            "Epoch 53/100\n",
            "9/9 [==============================] - 13s 1s/step - loss: 0.3023 - acc: 0.8944 - val_loss: 0.3160 - val_acc: 0.8913\n",
            "Epoch 54/100\n",
            "9/9 [==============================] - 13s 1s/step - loss: 0.2990 - acc: 0.8959 - val_loss: 0.3129 - val_acc: 0.8927\n",
            "Epoch 55/100\n",
            "9/9 [==============================] - 13s 1s/step - loss: 0.2973 - acc: 0.8963 - val_loss: 0.3123 - val_acc: 0.8938\n",
            "Epoch 56/100\n",
            "9/9 [==============================] - 13s 1s/step - loss: 0.2958 - acc: 0.8973 - val_loss: 0.3133 - val_acc: 0.8915\n",
            "Epoch 57/100\n",
            "9/9 [==============================] - 13s 1s/step - loss: 0.2944 - acc: 0.8982 - val_loss: 0.3110 - val_acc: 0.8932\n",
            "Epoch 58/100\n",
            "9/9 [==============================] - 13s 1s/step - loss: 0.2927 - acc: 0.8982 - val_loss: 0.3101 - val_acc: 0.8935\n",
            "Epoch 59/100\n",
            "9/9 [==============================] - 13s 1s/step - loss: 0.2914 - acc: 0.8979 - val_loss: 0.3106 - val_acc: 0.8921\n",
            "Epoch 60/100\n",
            "9/9 [==============================] - 13s 1s/step - loss: 0.2907 - acc: 0.8982 - val_loss: 0.3090 - val_acc: 0.8949\n",
            "Epoch 61/100\n",
            "9/9 [==============================] - 13s 1s/step - loss: 0.2897 - acc: 0.8998 - val_loss: 0.3077 - val_acc: 0.8943\n",
            "Epoch 62/100\n",
            "9/9 [==============================] - 13s 1s/step - loss: 0.2883 - acc: 0.8990 - val_loss: 0.3084 - val_acc: 0.8936\n",
            "Epoch 63/100\n",
            "9/9 [==============================] - 13s 1s/step - loss: 0.2879 - acc: 0.8991 - val_loss: 0.3105 - val_acc: 0.8919\n",
            "Epoch 64/100\n",
            "9/9 [==============================] - 13s 2s/step - loss: 0.2882 - acc: 0.8982 - val_loss: 0.3077 - val_acc: 0.8943\n",
            "Epoch 65/100\n",
            "9/9 [==============================] - 13s 1s/step - loss: 0.2864 - acc: 0.8994 - val_loss: 0.3048 - val_acc: 0.8954\n",
            "Epoch 66/100\n",
            "9/9 [==============================] - 13s 1s/step - loss: 0.2841 - acc: 0.9005 - val_loss: 0.3044 - val_acc: 0.8953\n",
            "Epoch 67/100\n",
            "9/9 [==============================] - 13s 1s/step - loss: 0.2833 - acc: 0.9009 - val_loss: 0.3040 - val_acc: 0.8961\n",
            "Epoch 68/100\n",
            "9/9 [==============================] - 13s 1s/step - loss: 0.2813 - acc: 0.9022 - val_loss: 0.3054 - val_acc: 0.8937\n",
            "Epoch 69/100\n",
            "9/9 [==============================] - 13s 1s/step - loss: 0.2808 - acc: 0.9021 - val_loss: 0.3022 - val_acc: 0.8961\n",
            "Epoch 70/100\n",
            "9/9 [==============================] - 13s 1s/step - loss: 0.2794 - acc: 0.9019 - val_loss: 0.3036 - val_acc: 0.8944\n",
            "Epoch 71/100\n",
            "9/9 [==============================] - 13s 1s/step - loss: 0.2798 - acc: 0.9019 - val_loss: 0.3031 - val_acc: 0.8953\n",
            "Epoch 72/100\n",
            "9/9 [==============================] - 13s 1s/step - loss: 0.2784 - acc: 0.9029 - val_loss: 0.3028 - val_acc: 0.8946\n",
            "Epoch 73/100\n",
            "9/9 [==============================] - 13s 1s/step - loss: 0.2769 - acc: 0.9027 - val_loss: 0.3026 - val_acc: 0.8957\n",
            "Epoch 74/100\n",
            "9/9 [==============================] - 13s 1s/step - loss: 0.2765 - acc: 0.9033 - val_loss: 0.3018 - val_acc: 0.8957\n",
            "Epoch 75/100\n",
            "9/9 [==============================] - 13s 1s/step - loss: 0.2753 - acc: 0.9040 - val_loss: 0.3017 - val_acc: 0.8959\n",
            "Epoch 76/100\n",
            "9/9 [==============================] - 13s 1s/step - loss: 0.2742 - acc: 0.9039 - val_loss: 0.2989 - val_acc: 0.8974\n",
            "Epoch 77/100\n",
            "9/9 [==============================] - 13s 1s/step - loss: 0.2729 - acc: 0.9048 - val_loss: 0.2973 - val_acc: 0.8979\n",
            "Epoch 78/100\n",
            "9/9 [==============================] - 13s 1s/step - loss: 0.2716 - acc: 0.9054 - val_loss: 0.2972 - val_acc: 0.8977\n",
            "Epoch 79/100\n",
            "9/9 [==============================] - 13s 1s/step - loss: 0.2710 - acc: 0.9052 - val_loss: 0.2967 - val_acc: 0.8985\n",
            "Epoch 80/100\n",
            "9/9 [==============================] - 13s 1s/step - loss: 0.2711 - acc: 0.9058 - val_loss: 0.2974 - val_acc: 0.8976\n",
            "Epoch 81/100\n",
            "9/9 [==============================] - 13s 1s/step - loss: 0.2694 - acc: 0.9062 - val_loss: 0.2958 - val_acc: 0.8983\n",
            "Epoch 82/100\n",
            "9/9 [==============================] - 13s 1s/step - loss: 0.2680 - acc: 0.9068 - val_loss: 0.2961 - val_acc: 0.8972\n",
            "Epoch 83/100\n",
            "9/9 [==============================] - 13s 1s/step - loss: 0.2683 - acc: 0.9061 - val_loss: 0.2984 - val_acc: 0.8963\n",
            "Epoch 84/100\n",
            "9/9 [==============================] - 13s 1s/step - loss: 0.2678 - acc: 0.9062 - val_loss: 0.2945 - val_acc: 0.8994\n",
            "Epoch 85/100\n",
            "9/9 [==============================] - 13s 1s/step - loss: 0.2659 - acc: 0.9073 - val_loss: 0.2948 - val_acc: 0.8985\n",
            "Epoch 86/100\n",
            "9/9 [==============================] - 13s 1s/step - loss: 0.2670 - acc: 0.9068 - val_loss: 0.2937 - val_acc: 0.8991\n",
            "Epoch 87/100\n",
            "9/9 [==============================] - 13s 1s/step - loss: 0.2649 - acc: 0.9070 - val_loss: 0.2939 - val_acc: 0.8985\n",
            "Epoch 88/100\n",
            "9/9 [==============================] - 13s 1s/step - loss: 0.2648 - acc: 0.9074 - val_loss: 0.2934 - val_acc: 0.8983\n",
            "Epoch 89/100\n",
            "9/9 [==============================] - 13s 1s/step - loss: 0.2640 - acc: 0.9078 - val_loss: 0.2927 - val_acc: 0.8995\n",
            "Epoch 90/100\n",
            "9/9 [==============================] - 13s 1s/step - loss: 0.2624 - acc: 0.9081 - val_loss: 0.2935 - val_acc: 0.8975\n",
            "Epoch 91/100\n",
            "9/9 [==============================] - 13s 1s/step - loss: 0.2629 - acc: 0.9083 - val_loss: 0.2956 - val_acc: 0.8973\n",
            "Epoch 92/100\n",
            "9/9 [==============================] - 13s 1s/step - loss: 0.2629 - acc: 0.9079 - val_loss: 0.2931 - val_acc: 0.8986\n",
            "Epoch 93/100\n",
            "9/9 [==============================] - 13s 1s/step - loss: 0.2615 - acc: 0.9085 - val_loss: 0.2928 - val_acc: 0.8982\n",
            "Epoch 94/100\n",
            "9/9 [==============================] - 13s 1s/step - loss: 0.2601 - acc: 0.9088 - val_loss: 0.2909 - val_acc: 0.8982\n",
            "Epoch 95/100\n",
            "9/9 [==============================] - 13s 1s/step - loss: 0.2602 - acc: 0.9088 - val_loss: 0.2914 - val_acc: 0.8993\n",
            "Epoch 96/100\n",
            "9/9 [==============================] - 13s 1s/step - loss: 0.2598 - acc: 0.9092 - val_loss: 0.2907 - val_acc: 0.8993\n",
            "Epoch 97/100\n",
            "9/9 [==============================] - 13s 1s/step - loss: 0.2594 - acc: 0.9082 - val_loss: 0.2972 - val_acc: 0.8965\n",
            "Epoch 98/100\n",
            "9/9 [==============================] - 13s 1s/step - loss: 0.2596 - acc: 0.9089 - val_loss: 0.2922 - val_acc: 0.8994\n",
            "Epoch 99/100\n",
            "9/9 [==============================] - 13s 1s/step - loss: 0.2570 - acc: 0.9101 - val_loss: 0.2925 - val_acc: 0.8982\n",
            "Epoch 100/100\n",
            "9/9 [==============================] - 13s 1s/step - loss: 0.2561 - acc: 0.9106 - val_loss: 0.2902 - val_acc: 0.8993\n"
          ]
        }
      ]
    },
    {
      "cell_type": "code",
      "source": [
        "X_val = np.array(X_val).reshape(X_val.shape[0], 28, 28, 1)"
      ],
      "metadata": {
        "id": "JF1oO5XlE1ak"
      },
      "execution_count": 13,
      "outputs": []
    },
    {
      "cell_type": "code",
      "source": [
        "predictions = np.argmax(model.predict(X_val), axis = -1)"
      ],
      "metadata": {
        "id": "hLy_S1bYE5hN"
      },
      "execution_count": 14,
      "outputs": []
    },
    {
      "cell_type": "code",
      "source": [
        "accuracy_score(y_val, predictions)"
      ],
      "metadata": {
        "colab": {
          "base_uri": "https://localhost:8080/"
        },
        "id": "_eEOiPTmE8rd",
        "outputId": "3f502603-2a53-4d7b-d1f8-8f7dfc300494"
      },
      "execution_count": 15,
      "outputs": [
        {
          "output_type": "execute_result",
          "data": {
            "text/plain": [
              "0.9022"
            ]
          },
          "metadata": {},
          "execution_count": 15
        }
      ]
    }
  ]
}